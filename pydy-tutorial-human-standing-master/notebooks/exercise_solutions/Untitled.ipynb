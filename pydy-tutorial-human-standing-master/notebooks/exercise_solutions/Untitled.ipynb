{
 "cells": [
  {
   "cell_type": "code",
   "execution_count": 1,
   "id": "5cbcacfe",
   "metadata": {},
   "outputs": [],
   "source": [
    "import numpy as np\n",
    "from sympy import linsolve, symbols, nonlinsolve\n",
    "\n"
   ]
  },
  {
   "cell_type": "code",
   "execution_count": null,
   "id": "1c6b3924",
   "metadata": {},
   "outputs": [],
   "source": [
    "t_solution = {}\n",
    "eq_str = 'va vb vc vab vd i1 i2 i3 rt it z1 z2 z3 zth w'\n",
    "\n",
    "# creates variables\n",
    "va, vb, vc, vab, vd, i1, i2, i3, rt, it, z1, z2, z3, zth, w = symbols(eq_str)\n",
    "\n",
    "\n",
    "val =[vab, zth, z1, z2, z3, w,vc]\n",
    "print(val)\n",
    "so = nonlinsolve([-vc+40*np.exp(np.pi/3*1j), -z3 -1j/(w*0.6*10**-6), -z2 + 400+300j, -z1+z2*z3/(z2+z3), -zth+300j+z1,\n",
    "                       -vab+vc-300j*vc/zth, -w + 3000], val)\n",
    "print(so)"
   ]
  },
  {
   "cell_type": "code",
   "execution_count": null,
   "id": "95ec9595",
   "metadata": {},
   "outputs": [],
   "source": [
    "eq_str = 'va vb vc vab vd i1 i2 i3 rt it z1 z2 z3 zth w'\n",
    "\n",
    "# creates variables\n",
    "va, vb, vc, vab, vd, i1, i2, i3, rt, it, z1, z2, z3, zth, w = symbols(eq_str)"
   ]
  },
  {
   "cell_type": "code",
   "execution_count": 2,
   "id": "5f409c2a",
   "metadata": {},
   "outputs": [],
   "source": [
    "var = 'r1 r2 r3 rab rac rbc'"
   ]
  },
  {
   "cell_type": "code",
   "execution_count": 3,
   "id": "0b172bcc",
   "metadata": {},
   "outputs": [],
   "source": [
    "r1, r2, r3, rab, rbc, rac = symbols(var)"
   ]
  },
  {
   "cell_type": "code",
   "execution_count": 5,
   "id": "9d020dc5",
   "metadata": {},
   "outputs": [],
   "source": [
    "va = (r1*r2+r2*r3+r3*r1)\n",
    "\n",
    "eq = [rbc-va/r1, rac-va/r2, rac-va/r3, r1-5, r2-10, r3-20]"
   ]
  },
  {
   "cell_type": "code",
   "execution_count": 6,
   "id": "88772947",
   "metadata": {},
   "outputs": [
    {
     "data": {
      "text/latex": [
       "$\\displaystyle \\left\\{\\left( r_{1} rac,\\right)\\right\\}$"
      ],
      "text/plain": [
       "FiniteSet((r1*rac,))"
      ]
     },
     "execution_count": 6,
     "metadata": {},
     "output_type": "execute_result"
    }
   ],
   "source": [
    "nonlinsolve(eq, va)"
   ]
  },
  {
   "cell_type": "code",
   "execution_count": 7,
   "id": "b2fa6b12",
   "metadata": {},
   "outputs": [],
   "source": [
    "a = 40-30j\n",
    "b=50j"
   ]
  },
  {
   "cell_type": "code",
   "execution_count": 8,
   "id": "cf364705",
   "metadata": {},
   "outputs": [
    {
     "data": {
      "text/plain": [
       "(50+25j)"
      ]
     },
     "execution_count": 8,
     "metadata": {},
     "output_type": "execute_result"
    }
   ],
   "source": [
    "a*b/(a+b)"
   ]
  },
  {
   "cell_type": "code",
   "execution_count": 9,
   "id": "c3e058b9",
   "metadata": {},
   "outputs": [],
   "source": [
    "v = 150"
   ]
  },
  {
   "cell_type": "code",
   "execution_count": 10,
   "id": "d4d439f3",
   "metadata": {},
   "outputs": [
    {
     "data": {
      "text/plain": [
       "(360-180j)"
      ]
     },
     "execution_count": 10,
     "metadata": {},
     "output_type": "execute_result"
    }
   ],
   "source": [
    "v**2/(50+25j)"
   ]
  },
  {
   "cell_type": "code",
   "execution_count": 11,
   "id": "82149300",
   "metadata": {},
   "outputs": [],
   "source": [
    "a = 2-2j"
   ]
  },
  {
   "cell_type": "code",
   "execution_count": 12,
   "id": "2be1c4e8",
   "metadata": {},
   "outputs": [],
   "source": [
    "b= 4"
   ]
  },
  {
   "cell_type": "code",
   "execution_count": 13,
   "id": "810631ab",
   "metadata": {},
   "outputs": [],
   "source": [
    "c = a*b/(a+b)"
   ]
  },
  {
   "cell_type": "code",
   "execution_count": 14,
   "id": "edcb26f6",
   "metadata": {},
   "outputs": [
    {
     "data": {
      "text/plain": [
       "(1.9999999999999998-1j)"
      ]
     },
     "execution_count": 14,
     "metadata": {},
     "output_type": "execute_result"
    }
   ],
   "source": [
    "5*c/b"
   ]
  },
  {
   "cell_type": "code",
   "execution_count": 15,
   "id": "9d441741",
   "metadata": {},
   "outputs": [
    {
     "data": {
      "text/plain": [
       "(7.999999999999999-4j)"
      ]
     },
     "execution_count": 15,
     "metadata": {},
     "output_type": "execute_result"
    }
   ],
   "source": [
    "5*c/b*4"
   ]
  },
  {
   "cell_type": "code",
   "execution_count": 16,
   "id": "6ed4ae15",
   "metadata": {},
   "outputs": [],
   "source": [
    "c1 = -1j/(20*10**-6)"
   ]
  },
  {
   "cell_type": "code",
   "execution_count": 17,
   "id": "e59a3830",
   "metadata": {},
   "outputs": [],
   "source": [
    "l1=0.8j"
   ]
  },
  {
   "cell_type": "code",
   "execution_count": 18,
   "id": "a9d5b322",
   "metadata": {},
   "outputs": [],
   "source": [
    "l2=0.4j"
   ]
  },
  {
   "cell_type": "code",
   "execution_count": 19,
   "id": "17f47740",
   "metadata": {},
   "outputs": [],
   "source": [
    "zc2=1/200*c1"
   ]
  },
  {
   "cell_type": "code",
   "execution_count": 20,
   "id": "6dcd5f36",
   "metadata": {},
   "outputs": [],
   "source": [
    "zl12=200*l1"
   ]
  },
  {
   "cell_type": "code",
   "execution_count": 21,
   "id": "a32a0e6c",
   "metadata": {},
   "outputs": [],
   "source": [
    "zl22=200*l2"
   ]
  },
  {
   "cell_type": "code",
   "execution_count": 23,
   "id": "1639f152",
   "metadata": {},
   "outputs": [
    {
     "data": {
      "text/plain": [
       "80j"
      ]
     },
     "execution_count": 23,
     "metadata": {},
     "output_type": "execute_result"
    }
   ],
   "source": [
    "zc2\n",
    "zl12\n",
    "zl22"
   ]
  },
  {
   "cell_type": "code",
   "execution_count": 24,
   "id": "893ce4af",
   "metadata": {},
   "outputs": [
    {
     "data": {
      "text/plain": [
       "160j"
      ]
     },
     "execution_count": 24,
     "metadata": {},
     "output_type": "execute_result"
    }
   ],
   "source": [
    "zl12"
   ]
  },
  {
   "cell_type": "code",
   "execution_count": 25,
   "id": "7bb742ec",
   "metadata": {},
   "outputs": [
    {
     "data": {
      "text/plain": [
       "80j"
      ]
     },
     "execution_count": 25,
     "metadata": {},
     "output_type": "execute_result"
    }
   ],
   "source": [
    "zl22"
   ]
  },
  {
   "cell_type": "code",
   "execution_count": 26,
   "id": "3df9c5dc",
   "metadata": {},
   "outputs": [
    {
     "data": {
      "text/plain": [
       "-250.00000000000003j"
      ]
     },
     "execution_count": 26,
     "metadata": {},
     "output_type": "execute_result"
    }
   ],
   "source": [
    "zc2"
   ]
  },
  {
   "cell_type": "code",
   "execution_count": 28,
   "id": "f0f7efac",
   "metadata": {},
   "outputs": [],
   "source": [
    "o =(200*zl12)/(200+zl12)"
   ]
  },
  {
   "cell_type": "code",
   "execution_count": 29,
   "id": "400f2f06",
   "metadata": {},
   "outputs": [
    {
     "data": {
      "text/plain": [
       "(166.3201663201663+74.84407484407484j)"
      ]
     },
     "execution_count": 29,
     "metadata": {},
     "output_type": "execute_result"
    }
   ],
   "source": [
    "zc2*o/(o+zc2)"
   ]
  },
  {
   "cell_type": "code",
   "execution_count": 30,
   "id": "301b0e1b",
   "metadata": {},
   "outputs": [
    {
     "data": {
      "text/plain": [
       "(2.62-1.8399999999999999j)"
      ]
     },
     "execution_count": 30,
     "metadata": {},
     "output_type": "execute_result"
    }
   ],
   "source": [
    "(384+112j)/o"
   ]
  },
  {
   "cell_type": "code",
   "execution_count": 31,
   "id": "e9313fe6",
   "metadata": {},
   "outputs": [
    {
     "data": {
      "text/plain": [
       "(-140+480j)"
      ]
     },
     "execution_count": 31,
     "metadata": {},
     "output_type": "execute_result"
    }
   ],
   "source": [
    "384+112j-200*(2.62-1.84j)"
   ]
  },
  {
   "cell_type": "code",
   "execution_count": 32,
   "id": "1eb3fed9",
   "metadata": {},
   "outputs": [
    {
     "data": {
      "text/plain": [
       "-12499800.000000002j"
      ]
     },
     "execution_count": 32,
     "metadata": {},
     "output_type": "execute_result"
    }
   ],
   "source": [
    "(c1+l1)*250"
   ]
  },
  {
   "cell_type": "code",
   "execution_count": 33,
   "id": "9f77bcca",
   "metadata": {},
   "outputs": [
    {
     "data": {
      "text/plain": [
       "100j"
      ]
     },
     "execution_count": 33,
     "metadata": {},
     "output_type": "execute_result"
    }
   ],
   "source": [
    "l2*250"
   ]
  },
  {
   "cell_type": "code",
   "execution_count": null,
   "id": "5681c754",
   "metadata": {},
   "outputs": [],
   "source": []
  }
 ],
 "metadata": {
  "kernelspec": {
   "display_name": "Python 3",
   "language": "python",
   "name": "python3"
  },
  "language_info": {
   "codemirror_mode": {
    "name": "ipython",
    "version": 3
   },
   "file_extension": ".py",
   "mimetype": "text/x-python",
   "name": "python",
   "nbconvert_exporter": "python",
   "pygments_lexer": "ipython3",
   "version": "3.7.10"
  }
 },
 "nbformat": 4,
 "nbformat_minor": 5
}
