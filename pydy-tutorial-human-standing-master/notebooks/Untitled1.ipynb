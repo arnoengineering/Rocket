{
 "cells": [
  {
   "cell_type": "markdown",
   "metadata": {},
   "source": [
    "question 1power\n",
    "194\n"
   ]
  },
  {
   "cell_type": "code",
   "execution_count": 1,
   "metadata": {},
   "outputs": [],
   "source": [
    "import numpy as np\n",
    "from sympy import linsolve, symbols, nonlinsolve\n",
    "\n",
    "t_solution = {}\n",
    "eq_str = 'va vb vc vab vd i1 i2 i3 rt it z1 z2 z3 zth w p1 p2 p3 p4 pv pt'\n",
    "\n",
    "# creates variables\n",
    "va, vb, vc, vab, vd, i1, i2, i3, rt, it, z1, z2, z3, zth, w, p1, p2, p3, p4,pv, pt = symbols(eq_str)"
   ]
  },
  {
   "cell_type": "code",
   "execution_count": 11,
   "metadata": {},
   "outputs": [],
   "source": [
    "eq_q1 = [-(193.7+10.2j)+i1 -1.5j*(i1-i2), 1.5j*(i1-i2) +3*i2+2.8j*i2, pv +(193.7+10.2j)*i1, -p1 + i1, -p2 +9*i2, -p3 +(2.8j)**2*i2, -p4 +(-1.5j)**2*(i1-i2), -pt +p1+p2+p3+p4]\n",
    "\n",
    "var = [i1,i2, p1,p2,p3, p4, pv, pt]"
   ]
  },
  {
   "cell_type": "code",
   "execution_count": 12,
   "metadata": {},
   "outputs": [
    {
     "data": {
      "text/plain": [
       "[i1 - 1.5*I*(i1 - i2) - 193.7 - 10.2*I,\n",
       " 3*i2 + 2.8*I*i2 + 1.5*I*(i1 - i2),\n",
       " i1*(193.7 + 10.2*I) + pv,\n",
       " i1 - p1,\n",
       " 9*i2 - p2,\n",
       " -7.84*i2 - p3,\n",
       " -2.25*i1 + 2.25*i2 - p4,\n",
       " p1 + p2 + p3 + p4 - pt]"
      ]
     },
     "execution_count": 12,
     "metadata": {},
     "output_type": "execute_result"
    }
   ],
   "source": [
    "eq_q1\n"
   ]
  },
  {
   "cell_type": "code",
   "execution_count": 13,
   "metadata": {},
   "outputs": [
    {
     "data": {
      "text/latex": [
       "$\\displaystyle \\left\\{\\left( 51.3005154639175 + 62.0238402061856 i, \\  16.7512886597938 - 32.9091494845361 i, \\  51.3005154639175 + 62.0238402061856 i, \\  150.761597938144 - 296.182345360825 i, \\  -131.330103092784 + 258.007731958763 i, \\  -77.7357603092783 - 213.599226804124 i, \\  -9304.26667525773 - 12537.2831056701 i, \\  -7.00374999999989 - 189.75 i\\right)\\right\\}$"
      ],
      "text/plain": [
       "FiniteSet((51.3005154639175 + 62.0238402061856*I, 16.7512886597938 - 32.9091494845361*I, 51.3005154639175 + 62.0238402061856*I, 150.761597938144 - 296.182345360825*I, -131.330103092784 + 258.007731958763*I, -77.7357603092783 - 213.599226804124*I, -9304.26667525773 - 12537.2831056701*I, -7.00374999999989 - 189.75*I))"
      ]
     },
     "execution_count": 13,
     "metadata": {},
     "output_type": "execute_result"
    }
   ],
   "source": [
    "linsolve(eq_q1, var)"
   ]
  },
  {
   "cell_type": "code",
   "execution_count": null,
   "metadata": {},
   "outputs": [],
   "source": []
  }
 ],
 "metadata": {
  "kernelspec": {
   "display_name": "Python 3",
   "language": "python",
   "name": "python3"
  },
  "language_info": {
   "codemirror_mode": {
    "name": "ipython",
    "version": 3
   },
   "file_extension": ".py",
   "mimetype": "text/x-python",
   "name": "python",
   "nbconvert_exporter": "python",
   "pygments_lexer": "ipython3",
   "version": "3.7.6"
  }
 },
 "nbformat": 4,
 "nbformat_minor": 4
}
