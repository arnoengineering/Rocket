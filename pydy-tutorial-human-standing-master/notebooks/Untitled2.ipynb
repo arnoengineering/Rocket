{
 "cells": [
  {
   "cell_type": "code",
   "execution_count": 15,
   "id": "7f76f058",
   "metadata": {},
   "outputs": [],
   "source": [
    "import numpy as np\n",
    "import sys\n",
    "from sympy import symbols, sin, cos\n",
    "from sympy.physics.mechanics import *\n",
    "from pydy.viz.visualization_frame import VisualizationFrame\n",
    "from sympy.physics.vector import init_vprinting, vlatex\n",
    "sys.path.append(\"N:\\PC stuff\\Programs\\Python\\Rocket\")\n",
    "from RocketObjects import *"
   ]
  },
  {
   "cell_type": "code",
   "execution_count": 25,
   "id": "952cebc4",
   "metadata": {},
   "outputs": [],
   "source": [
    "init_vprinting(use_latex='mathjax', pretty_print=False)\n",
    "\n",
    "\n",
    "def com_con(ls, out_ls, ref=N):\n",
    "    for val in ls:  # todo funct\n",
    "        if type(val) == Vector:\n",
    "            out_ls.extend(components(val, ref))  # todo change ref\n",
    "        else:\n",
    "            out_ls.append(val)\n",
    "\n",
    "\n",
    "def components(fun, ref_frame):\n",
    "    # fr = m\n",
    "    return np.array(list(fun.to_matrix(ref_frame)))\n",
    "\n",
    "\n",
    "def vector_base(ve):\n",
    "    return ve.x, ve.y, ve.z\n",
    "\n",
    "\n",
    "def set_pos_ro(p, p_l):\n",
    "    p.set_pos(tail_point, np.dot(p_l, vector_base(Ro)))\n",
    "\n",
    "\n",
    "def vis_f(poi, sh):\n",
    "    return VisualizationFrame(Ro, poi, sh)\n",
    "\n",
    "\n",
    "def two_ref_frame(tor):\n",
    "    return (engine_ref, tor), (Ro, -tor)\n",
    "\n",
    "\n",
    "def cost_f(pos0, pos1):\n",
    "    pass\n",
    "\n",
    "\n",
    "def get_pos():\n",
    "    pass\n",
    "\n",
    "\n",
    "def get_pos_expected():\n",
    "    pass\n",
    "\n",
    "\n",
    "def motor_turn():\n",
    "    # p0 = get_pos()\n",
    "    # p1 = get_pos_expected()\n",
    "    # cost_f(p0, p1)\n",
    "    pass"
   ]
  },
  {
   "cell_type": "code",
   "execution_count": 36,
   "id": "a6a413d4",
   "metadata": {},
   "outputs": [
    {
     "data": {
      "text/latex": [
       "$\\displaystyle x$"
      ],
      "text/plain": [
       "x"
      ]
     },
     "execution_count": 36,
     "metadata": {},
     "output_type": "execute_result"
    }
   ],
   "source": [
    "pos_x"
   ]
  },
  {
   "cell_type": "code",
   "execution_count": 18,
   "id": "aac9b7a5",
   "metadata": {},
   "outputs": [],
   "source": [
    "\n",
    "# const\n",
    "g_a = -9.81\n",
    "\n",
    "\n",
    "# ####------------------------\n",
    "# classes\n",
    "# ---------------\n",
    "rocket_obj = Rocket()\n",
    "engine_obj = Engine('D10-5')\n",
    "Motor_obj = Motor()\n",
    "\n",
    "\n",
    "# #####-------------------------------\n",
    "# symbols\n",
    "# ----------------------------------------\n",
    "# norm sim\n",
    "parra_deploy_t, touch_down_t, t_shut, t = symbols('p_t g_t t_sh t')\n",
    "m, eng_m, g = symbols('m eng_m g')\n",
    "\n",
    "# dim symbols, unit vects\n",
    "pos_x, pos_y, pos_z = dynamicsymbols('x y z')  # normal vector location\n",
    "theta_x, theta_y, theta_z = dynamicsymbols('theta_x theta_y theta_z')\n",
    "eng_x, eng_y, eng_z = dynamicsymbols('eng_x eng_y eng_z')\n",
    "# theta, theta_mot = dynamicsymbols('theta theta_m')  # angle around w_norm\n",
    "\n",
    "# magnitudes\n",
    "# pos_mag, v_mag, a_mag = dynamicsymbols('h v a')\n",
    "# w_mag, w_mot_mag = dynamicsymbols('w w_mot')  # magitudes\n",
    "# alpha_mag, alpha_mot_mag = dynamicsymbols('alpha alpha_mot')\n",
    "\n",
    "# eng_t = dynamicsymbols('t_eng')  # magnitude\n",
    "f, force_para = dynamicsymbols('f f_p')\n",
    "# sum_f = dynamicsymbols('F')\n",
    "mot_tx = dynamicsymbols('mot_t')  # variable step\n",
    "mot_ty = dynamicsymbols('mot_t')\n",
    "\n",
    "# -------------------------------------------\n",
    "# frame setup\n",
    "# ----------------------------------------\n",
    "\n",
    "# reference frames\n",
    "N = ReferenceFrame('N')\n",
    "Ro = ReferenceFrame('Ro')  # rocket refernce, thrust always at cent, maybe ad mom later\n",
    "engine_ref = ReferenceFrame('engine_ref')\n",
    "\n",
    "# points\n",
    "pad = Point('pad')\n",
    "COM = Point('COM')\n",
    "engine_point = Point('engine_point')\n",
    "nose_point = Point('nose_point')\n",
    "rocket_geo_cent = Point('ro_cent')\n",
    "tail_point = Point('tail_point')"
   ]
  },
  {
   "cell_type": "code",
   "execution_count": 19,
   "id": "48978755",
   "metadata": {},
   "outputs": [],
   "source": [
    "# set vectors\n",
    "theta = theta_x*N.x + theta_y*N.y + theta_z*N.z\n",
    "theta_mot = eng_x * Ro.x + eng_y * Ro.y + eng_z * Ro.z\n",
    "pos = pos_x*N.x + pos_y*N.y + pos_z*N.z\n"
   ]
  },
  {
   "cell_type": "code",
   "execution_count": 20,
   "id": "338a60de",
   "metadata": {},
   "outputs": [],
   "source": [
    "theta_norm = theta.normalize()\n",
    "theta_mot_norm = theta_mot.normalize()\n",
    "theta_m = theta.magnitude()\n",
    "theta_mot_m = theta_mot.magnitude()\n",
    "\n",
    "# set Frames\n",
    "Ro.orient_quaternion(N, (cos(theta_m/2), *components(theta_norm, N)*sin(theta_m/2)))\n",
    "engine_ref.orient_quaternion(Ro, (cos(theta_mot_m/2), *components(theta_mot_norm, Ro)*sin(theta_mot_m/2)))\n",
    "\n",
    "v = pos.diff(t, N)  # needed?\n",
    "a = v.diff(t, N)\n",
    "w = theta.diff(t, N)\n",
    "w_mot = theta_mot.diff(t, Ro)\n",
    "alpha = w.diff(t, N)\n",
    "alpha_mot = w_mot.diff(t, Ro)\n",
    "\n",
    "# velocities\n",
    "Ro.set_ang_vel(N, w)\n",
    "engine_ref.set_ang_vel(Ro, w_mot)\n",
    "\n",
    "# set points\n",
    "set_pos_ro(COM, rocket_obj.COM)\n",
    "set_pos_ro(engine_point, engine_obj.pos)\n",
    "set_pos_ro(nose_point, rocket_obj.nose)\n",
    "# set_pos_ro(rocket_geo_cent, np.array(para_loc) / 2)\n",
    "\n",
    "# point relations\n",
    "COM.set_vel(Ro, 0*Ro.x)\n",
    "COM.set_vel(N, v)\n",
    "\n",
    "engine_point.v2pt_theory(COM, N, Ro)\n",
    "nose_point.v2pt_theory(COM, N, Ro)\n",
    "\n",
    "# inertias\n",
    "rocket_I = (inertia(Ro, *rocket_obj.inertia), COM)\n",
    "engine_I = (inertia(Ro, *rocket_obj.inertia), COM)\n",
    "\n",
    "# bodies\n",
    "rocket = RigidBody('Rocket', COM, Ro, m, rocket_I)\n",
    "engine = RigidBody('Engine', engine_point, engine_ref, m, engine_I)\n",
    "bodys = [rocket, engine]\n",
    "\n",
    "# forces\n",
    "eng_F = -f * engine_ref.z\n",
    "eng_T = cross(engine_point.pos_from(COM), eng_F)\n",
    "g_f = g*m*N.y\n",
    "\n",
    "mot_Tx = mot_tx*engine_ref.x\n",
    "mot_Ty = mot_ty*engine_ref.y\n",
    "\n",
    "# vector tuples\n",
    "eng_F_tuple = (engine_point, eng_F)\n",
    "g_tuple = (COM, g_f)\n",
    "\n",
    "# torques, ref frame\n",
    "eng_T_tuple_eng, eng_T_tuple_rocket = two_ref_frame(eng_T)  # todo is needed\n",
    "mot_Tx_tuple_eng, mot_Tx_tuple_rocket = two_ref_frame(mot_Tx)\n",
    "mot_Ty_tuple_eng, mot_Ty_tuple_rocket = two_ref_frame(mot_Ty)  # todo add reation forces"
   ]
  },
  {
   "cell_type": "code",
   "execution_count": 26,
   "id": "810d1710",
   "metadata": {},
   "outputs": [],
   "source": [
    "coords = [pos, theta]\n",
    "theta_co = [theta_mot]\n",
    "\n",
    "# speed\n",
    "speeds = [v, w]\n",
    "theta_sp = [w_mot]\n",
    "\n",
    "force_ls = [eng_F_tuple, g_tuple, mot_Ty_tuple_eng, mot_Ty_tuple_rocket,\n",
    "            mot_Tx_tuple_eng, mot_Tx_tuple_rocket, eng_T_tuple_eng, eng_T_tuple_rocket]"
   ]
  },
  {
   "cell_type": "code",
   "execution_count": 27,
   "id": "995e7712",
   "metadata": {},
   "outputs": [],
   "source": [
    "val_coords = []\n",
    "val_speeds = []\n",
    "kd = []\n",
    "\n",
    "com_con(coords, val_coords)\n",
    "com_con(speeds,\n",
    " val_speeds)\n",
    "com_con(theta_co, val_coords, Ro)\n",
    "com_con(theta_sp, val_speeds, Ro)\n"
   ]
  },
  {
   "cell_type": "code",
   "execution_count": 30,
   "id": "e55c16b8",
   "metadata": {},
   "outputs": [],
   "source": [
    "for q, u in zip(val_coords, val_speeds):\n",
    "    kd.append(u-q.diff(t))\n",
    "    "
   ]
  },
  {
   "cell_type": "code",
   "execution_count": 32,
   "id": "e150441a",
   "metadata": {},
   "outputs": [
    {
     "data": {
      "text/latex": [
       "$\\displaystyle \\left[ 0, \\  0, \\  0, \\  0, \\  0, \\  0, \\  0, \\  0, \\  0\\right]$"
      ],
      "text/plain": [
       "[0, 0, 0, 0, 0, 0, 0, 0, 0]"
      ]
     },
     "execution_count": 32,
     "metadata": {},
     "output_type": "execute_result"
    }
   ],
   "source": [
    "kd\n"
   ]
  },
  {
   "cell_type": "code",
   "execution_count": 33,
   "id": "6b528c92",
   "metadata": {},
   "outputs": [
    {
     "name": "stdout",
     "output_type": "stream",
     "text": [
      "Matrix([[x(t)], [y(t)], [z(t)], [theta_x(t)], [theta_y(t)], [theta_z(t)], [eng_x(t)], [eng_y(t)], [eng_z(t)]])\n",
      "Matrix([[Derivative(x(t), t)], [Derivative(y(t), t)], [Derivative(z(t), t)], [Derivative(theta_x(t), t)], [Derivative(theta_y(t), t)], [Derivative(theta_z(t), t)], [Derivative(eng_x(t), t)], [Derivative(eng_y(t), t)], [Derivative(eng_z(t), t)]])\n"
     ]
    }
   ],
   "source": [
    "kane = KanesMethod(N, val_coords, val_speeds)\n",
    "print(kane.q)\n",
    "print(kane.u)"
   ]
  },
  {
   "cell_type": "code",
   "execution_count": null,
   "id": "2eaaef3e",
   "metadata": {},
   "outputs": [],
   "source": []
  },
  {
   "cell_type": "code",
   "execution_count": 34,
   "id": "a1401a72",
   "metadata": {},
   "outputs": [
    {
     "ename": "AttributeError",
     "evalue": "Create an instance of KanesMethod with kinematic differential equations to use this method.",
     "output_type": "error",
     "traceback": [
      "\u001b[1;31m---------------------------------------------------------------------------\u001b[0m",
      "\u001b[1;31mAttributeError\u001b[0m                            Traceback (most recent call last)",
      "\u001b[1;32m<ipython-input-34-14d548668406>\u001b[0m in \u001b[0;36m<module>\u001b[1;34m\u001b[0m\n\u001b[1;32m----> 1\u001b[1;33m \u001b[0mfr\u001b[0m\u001b[1;33m,\u001b[0m \u001b[0mfrst\u001b[0m \u001b[1;33m=\u001b[0m \u001b[0mkane\u001b[0m\u001b[1;33m.\u001b[0m\u001b[0mkanes_equations\u001b[0m\u001b[1;33m(\u001b[0m\u001b[0mbodys\u001b[0m\u001b[1;33m,\u001b[0m \u001b[0mforce_ls\u001b[0m\u001b[1;33m)\u001b[0m\u001b[1;33m\u001b[0m\u001b[1;33m\u001b[0m\u001b[0m\n\u001b[0m\u001b[0;32m      2\u001b[0m \u001b[1;33m\u001b[0m\u001b[0m\n",
      "\u001b[1;32mD:\\Programs\\anaconda3\\envs\\Rocket\\lib\\site-packages\\sympy\\physics\\mechanics\\kane.py\u001b[0m in \u001b[0;36mkanes_equations\u001b[1;34m(self, bodies, loads)\u001b[0m\n\u001b[0;32m    532\u001b[0m         \"\"\"\n\u001b[0;32m    533\u001b[0m         \u001b[1;32mif\u001b[0m \u001b[1;32mnot\u001b[0m \u001b[0mself\u001b[0m\u001b[1;33m.\u001b[0m\u001b[0m_k_kqdot\u001b[0m\u001b[1;33m:\u001b[0m\u001b[1;33m\u001b[0m\u001b[1;33m\u001b[0m\u001b[0m\n\u001b[1;32m--> 534\u001b[1;33m             raise AttributeError('Create an instance of KanesMethod with '\n\u001b[0m\u001b[0;32m    535\u001b[0m                     'kinematic differential equations to use this method.')\n\u001b[0;32m    536\u001b[0m         \u001b[0mfr\u001b[0m \u001b[1;33m=\u001b[0m \u001b[0mself\u001b[0m\u001b[1;33m.\u001b[0m\u001b[0m_form_fr\u001b[0m\u001b[1;33m(\u001b[0m\u001b[0mloads\u001b[0m\u001b[1;33m)\u001b[0m\u001b[1;33m\u001b[0m\u001b[1;33m\u001b[0m\u001b[0m\n",
      "\u001b[1;31mAttributeError\u001b[0m: Create an instance of KanesMethod with kinematic differential equations to use this method."
     ]
    }
   ],
   "source": [
    "fr, frst = kane.kanes_equations(bodys, force_ls)\n",
    "\n"
   ]
  },
  {
   "cell_type": "code",
   "execution_count": null,
   "id": "86e3f529",
   "metadata": {},
   "outputs": [],
   "source": [
    "mass_matrix = kane.mass_matrix_full\n",
    "forcing_vector = kane.forcing_full\n",
    "constants = [g - g_a,\n",
    "             f-engine_obj.force]  # todo add a constant mag multiplied by step\n"
   ]
  }
 ],
 "metadata": {
  "kernelspec": {
   "display_name": "Python 3",
   "language": "python",
   "name": "python3"
  },
  "language_info": {
   "codemirror_mode": {
    "name": "ipython",
    "version": 3
   },
   "file_extension": ".py",
   "mimetype": "text/x-python",
   "name": "python",
   "nbconvert_exporter": "python",
   "pygments_lexer": "ipython3",
   "version": "3.7.10"
  }
 },
 "nbformat": 4,
 "nbformat_minor": 5
}
